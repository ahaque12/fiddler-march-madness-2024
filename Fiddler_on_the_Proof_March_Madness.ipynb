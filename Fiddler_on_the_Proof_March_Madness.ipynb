{
  "nbformat": 4,
  "nbformat_minor": 0,
  "metadata": {
    "colab": {
      "provenance": [],
      "authorship_tag": "ABX9TyOisa/5TeA8XoN/pIJKhByo",
      "include_colab_link": true
    },
    "kernelspec": {
      "name": "python3",
      "display_name": "Python 3"
    },
    "language_info": {
      "name": "python"
    }
  },
  "cells": [
    {
      "cell_type": "markdown",
      "metadata": {
        "id": "view-in-github",
        "colab_type": "text"
      },
      "source": [
        "<a href=\"https://colab.research.google.com/github/ahaque12/fiddler-march-madness-2024/blob/main/Fiddler_on_the_Proof_March_Madness.ipynb\" target=\"_parent\"><img src=\"https://colab.research.google.com/assets/colab-badge.svg\" alt=\"Open In Colab\"/></a>"
      ]
    },
    {
      "cell_type": "markdown",
      "source": [
        "# Fiddler on the Proof -- March Madness\n",
        "https://thefiddler.substack.com/p/can-you-survive-march-madness\n",
        "\n",
        "The single-elimination tournament brackets consists of 64 teams spread across four regions, each with teams seeded 1 through 16. (In recent years, additional teams beyond the 64 have been added, but you needn’t worry about these teams for this week’s puzzle.)\n",
        "\n",
        "Among the 16 teams in a region, you might wonder which team has the toughest schedule. One way to evaluate a team’s strength of schedule within the region is to compute the geometric mean of strongest opponents a team can face in various rounds.\n",
        "\n",
        "For example, the 1-seed faces the 16-seed in the first round, then (potentially) the 8-seed in the second round, then (potentially) the 4-seed in the third round, and finally (potentially) the 2-seed in the fourth round. The geometric mean of these opponents is the fourth root (since there are four opponents) of 16 · 8 · 4 · 2, or approximately 5.28. In this computation, we used the 8-seed rather than the 9-seed because 8 is less than 9, we used the 4 seed rather than the 5-seed, 12-seed, or 13-seed because 4 is less than 5, 12, and 13, and so on. The tougher a team’s strength of schedule, the lower this geometric mean.\n",
        "\n",
        "Of the 16 teams in the region, which two seeds have the toughest strength of schedule?\n"
      ],
      "metadata": {
        "id": "xeVO5hZhLxAB"
      }
    },
    {
      "cell_type": "code",
      "source": [
        "import numpy as np\n",
        "from scipy.stats.mstats import gmean\n",
        "import matplotlib.pyplot as plt\n",
        "\n",
        "plt.style.use('ggplot')"
      ],
      "metadata": {
        "id": "Vx_RxorjNHgo"
      },
      "execution_count": 1,
      "outputs": []
    },
    {
      "cell_type": "code",
      "source": [
        "# Array length 16 represents matchups. First index plays second index in first\n",
        "# round, winner plays winner of third and fourth index in second round, etc.\n",
        "matchups = np.arange(1, 17)\n",
        "matchups"
      ],
      "metadata": {
        "colab": {
          "base_uri": "https://localhost:8080/"
        },
        "id": "OEbnTjxNNsYA",
        "outputId": "098054a4-26d0-46d0-d763-8104003d81ee"
      },
      "execution_count": 2,
      "outputs": [
        {
          "output_type": "execute_result",
          "data": {
            "text/plain": [
              "array([ 1,  2,  3,  4,  5,  6,  7,  8,  9, 10, 11, 12, 13, 14, 15, 16])"
            ]
          },
          "metadata": {},
          "execution_count": 2
        }
      ]
    },
    {
      "cell_type": "code",
      "source": [
        "march_madness = np.array([1, 16, 8, 9, 5, 12, 4, 13, 6, 11, 3, 14, 7, 10, 2, 15])\n",
        "march_madness"
      ],
      "metadata": {
        "colab": {
          "base_uri": "https://localhost:8080/"
        },
        "id": "uV_c21wfMlhh",
        "outputId": "d69ef362-cd5c-465f-8289-5f3bd6b5fdb9"
      },
      "execution_count": 86,
      "outputs": [
        {
          "output_type": "execute_result",
          "data": {
            "text/plain": [
              "array([ 1, 16,  8,  9,  5, 12,  4, 13,  6, 11,  3, 14,  7, 10,  2, 15])"
            ]
          },
          "metadata": {},
          "execution_count": 86
        }
      ]
    },
    {
      "cell_type": "code",
      "source": [
        "def toughness(matchups, i):\n",
        "\n",
        "  seeds = np.ones(4)\n",
        "\n",
        "  x = i // 2\n",
        "  x = 2*x + 1 if 2*x==i else 2*x\n",
        "  seeds[0] = matchups[x]\n",
        "\n",
        "  x = i // 4\n",
        "\n",
        "  x = 4*x + 2 if (i % 4) < 2 else 4*x\n",
        "  seeds[1] = np.min(matchups[x:x+1])\n",
        "\n",
        "  x = i // 4\n",
        "  if x == 0:\n",
        "    x = 4\n",
        "  elif x == 1:\n",
        "    x = 0\n",
        "  elif x == 2:\n",
        "    x = 12\n",
        "  else:\n",
        "    x = 8\n",
        "  seeds[2] = np.min(matchups[x:x+3])\n",
        "\n",
        "  x = 8 if i < 8 else 0\n",
        "  seeds[3] = np.min(matchups[x:x+7])\n",
        "\n",
        "  return gmean(seeds), seeds\n",
        "\n",
        "def helper(matchups, i, cum=1):\n",
        "\n",
        "  size = len(matchups)\n",
        "  mid = int(size / 2)\n",
        "\n",
        "  if size == 2:\n",
        "    return cum*matchups[1-i]\n",
        "\n",
        "  if i < mid:\n",
        "    return helper(matchups[:mid], i, cum*np.min(matchups[mid:]))\n",
        "  else:\n",
        "    return helper(matchups[mid:], i - mid, cum*np.min(matchups[:mid]))\n",
        "\n",
        "def toughness_optimized(matchups, i):\n",
        "  return np.power(helper(matchups, i, 1), 1 / np.log2(len(matchups)))\n",
        "\n",
        "def generate_matchups(n):\n",
        "  \"\"\"Generate matchups for 2^n teams.\n",
        "  \"\"\"\n",
        "  size = 2**n\n",
        "  matchups = np.ones(size)\n",
        "\n",
        "  mid = int(size / 2)\n",
        "\n",
        "  outer = 1\n",
        "  inner = mid\n",
        "  oi = True\n",
        "  i = 0\n",
        "  while True:\n",
        "    print(inner, outer, matchups)\n",
        "    if inner < outer:\n",
        "      break\n",
        "    if oi:\n",
        "      matchups[i] = outer\n",
        "      matchups[i+1] = size - outer + 1\n",
        "      matchups[size - i - 2] = outer + 1\n",
        "      matchups[size - i - 1] = size - outer\n",
        "      outer += 2\n",
        "    else:\n",
        "      matchups[i] = inner\n",
        "      matchups[i+1] = size - inner + 1\n",
        "      matchups[size - i - 2] = size - inner - 1\n",
        "      matchups[size - i - 1] = inner + 2\n",
        "      inner -= 2\n",
        "    oi = not oi\n",
        "    i += 2\n",
        "\n",
        "  return matchups"
      ],
      "metadata": {
        "id": "DXfDAoKVN2Ne"
      },
      "execution_count": 179,
      "outputs": []
    },
    {
      "cell_type": "code",
      "source": [
        "def generate_matchups(n):\n",
        "  size = 2**n\n",
        "  mid = size // 2\n",
        "\n",
        "  matchups = np.ones(size)\n",
        "  for i in range(mid):\n",
        "    x = i\n",
        "    matchups[x] = i + 1\n",
        "    matchups[x+1] = size - i\n",
        "\n",
        "  return matchups\n",
        "\n",
        "generate_matchups(4)"
      ],
      "metadata": {
        "colab": {
          "base_uri": "https://localhost:8080/"
        },
        "id": "EivmdRFRb1bx",
        "outputId": "5f67e26f-c5a3-4a4c-d376-2fa85dbbad4d"
      },
      "execution_count": 183,
      "outputs": [
        {
          "output_type": "execute_result",
          "data": {
            "text/plain": [
              "array([1., 2., 3., 4., 5., 6., 7., 8., 9., 1., 1., 1., 1., 1., 1., 1.])"
            ]
          },
          "metadata": {},
          "execution_count": 183
        }
      ]
    },
    {
      "cell_type": "code",
      "source": [
        "def generate_matchups(n):\n",
        "  \"\"\"\n",
        "  Generates a full single-elimination tournament bracket represented by an array\n",
        "  for a bracket of 2^n teams, considering March Madness seed placement.\n",
        "\n",
        "  Args:\n",
        "      n: The power of 2 representing the number of rounds in the tournament (e.g., n=4 for 16 teams).\n",
        "\n",
        "  Returns:\n",
        "      A numpy array representing the bracket matchups (higher seed advances).\n",
        "\n",
        "  Raises:\n",
        "      ValueError: If n is not a positive integer.\n",
        "  \"\"\"\n",
        "\n",
        "  if n <= 0:\n",
        "    raise ValueError(\"n must be a positive integer.\")\n",
        "\n",
        "  # Calculate total number of teams (2^n)\n",
        "  num_teams = 2**n\n",
        "\n",
        "  # Define seeds for the entire bracket (assuming even number of teams)\n",
        "  half_seeds = list(range(1, num_teams // 2 + 1))[::-1] + list(range(num_teams // 2 + 2, num_teams + 1))\n",
        "\n",
        "  # Initialize bracket with all teams based on seeds\n",
        "  bracket = np.array(half_seeds)\n",
        "\n",
        "  return bracket\n",
        "\n",
        "# Example usage (bracket for 16 teams)\n",
        "generate_matchups(4)\n"
      ],
      "metadata": {
        "colab": {
          "base_uri": "https://localhost:8080/"
        },
        "id": "8VwoPC1bemby",
        "outputId": "7e2ebfb9-4ec0-42fe-de6d-555606db710f"
      },
      "execution_count": 188,
      "outputs": [
        {
          "output_type": "execute_result",
          "data": {
            "text/plain": [
              "array([ 8,  7,  6,  5,  4,  3,  2,  1, 10, 11, 12, 13, 14, 15, 16])"
            ]
          },
          "metadata": {},
          "execution_count": 188
        }
      ]
    },
    {
      "cell_type": "code",
      "source": [
        "sorted(list(zip(range(16), march_madness)), key=lambda x: x[1])"
      ],
      "metadata": {
        "colab": {
          "base_uri": "https://localhost:8080/"
        },
        "id": "sHA_UUY-dlUh",
        "outputId": "3418c723-4c45-4dff-ca44-931659ff43c0"
      },
      "execution_count": 185,
      "outputs": [
        {
          "output_type": "execute_result",
          "data": {
            "text/plain": [
              "[(0, 1),\n",
              " (14, 2),\n",
              " (10, 3),\n",
              " (6, 4),\n",
              " (4, 5),\n",
              " (8, 6),\n",
              " (12, 7),\n",
              " (2, 8),\n",
              " (3, 9),\n",
              " (13, 10),\n",
              " (9, 11),\n",
              " (5, 12),\n",
              " (7, 13),\n",
              " (11, 14),\n",
              " (15, 15),\n",
              " (1, 16)]"
            ]
          },
          "metadata": {},
          "execution_count": 185
        }
      ]
    },
    {
      "cell_type": "code",
      "source": [
        "generate_matchups(4)"
      ],
      "metadata": {
        "colab": {
          "base_uri": "https://localhost:8080/"
        },
        "id": "XaG56bQ4bZOB",
        "outputId": "0db7f86e-3fe8-452d-ba71-dfef7d96edfc"
      },
      "execution_count": 180,
      "outputs": [
        {
          "output_type": "stream",
          "name": "stdout",
          "text": [
            "8 1 [1. 1. 1. 1. 1. 1. 1. 1. 1. 1. 1. 1. 1. 1. 1. 1.]\n",
            "8 3 [ 1. 16.  1.  1.  1.  1.  1.  1.  1.  1.  1.  1.  1.  1.  2. 15.]\n",
            "6 3 [ 1. 16.  8.  9.  1.  1.  1.  1.  1.  1.  1.  1.  7. 10.  2. 15.]\n",
            "6 5 [ 1. 16.  8.  9.  3. 14.  1.  1.  1.  1.  4. 13.  7. 10.  2. 15.]\n",
            "4 5 [ 1. 16.  8.  9.  3. 14.  6. 11.  9.  8.  4. 13.  7. 10.  2. 15.]\n"
          ]
        },
        {
          "output_type": "execute_result",
          "data": {
            "text/plain": [
              "array([ 1., 16.,  8.,  9.,  3., 14.,  6., 11.,  9.,  8.,  4., 13.,  7.,\n",
              "       10.,  2., 15.])"
            ]
          },
          "metadata": {},
          "execution_count": 180
        }
      ]
    },
    {
      "cell_type": "code",
      "source": [
        "\n",
        "def generate_matchups(n):\n",
        "    \"\"\"\n",
        "    Generates matchups according to the March Madness seeds for 2^n teams.\n",
        "\n",
        "    Parameters:\n",
        "    n (int): The exponent to determine the number of teams (2^n).\n",
        "\n",
        "    Returns:\n",
        "    numpy.array: An array of matchups where teams are represented by their seed numbers.\n",
        "    \"\"\"\n",
        "    # The number of teams is 2 to the power of n\n",
        "    num_teams = 2**n\n",
        "    # Creating an array to hold the matchups\n",
        "    matchups = np.zeros(num_teams, dtype=int)\n",
        "\n",
        "    # Assigning matchups based on the seeding logic for March Madness\n",
        "    for i in range(1, num_teams // 2 + 1):\n",
        "        # The top half seeds face the corresponding seed from the bottom half in reverse order\n",
        "        matchups[(i-1)*2] = i\n",
        "        matchups[(i-1)*2 + 1] = num_teams - i + 1\n",
        "\n",
        "    return matchups\n",
        "\n",
        "\n",
        "generate_matchups(4)"
      ],
      "metadata": {
        "colab": {
          "base_uri": "https://localhost:8080/"
        },
        "id": "jkqmiRhIXRSJ",
        "outputId": "2ba8e9c3-7989-4a4b-ab03-ef81fb7868ea"
      },
      "execution_count": 175,
      "outputs": [
        {
          "output_type": "execute_result",
          "data": {
            "text/plain": [
              "array([ 1, 16,  2, 15,  3, 14,  4, 13,  5, 12,  6, 11,  7, 10,  8,  9])"
            ]
          },
          "metadata": {},
          "execution_count": 175
        }
      ]
    },
    {
      "cell_type": "code",
      "source": [
        "generate_matchups(4)"
      ],
      "metadata": {
        "colab": {
          "base_uri": "https://localhost:8080/"
        },
        "id": "0o1YSMFCSSpJ",
        "outputId": "e1115a27-7b8c-4d1a-8668-8ad5b47dc879"
      },
      "execution_count": 176,
      "outputs": [
        {
          "output_type": "execute_result",
          "data": {
            "text/plain": [
              "array([ 1, 16,  2, 15,  3, 14,  4, 13,  5, 12,  6, 11,  7, 10,  8,  9])"
            ]
          },
          "metadata": {},
          "execution_count": 176
        }
      ]
    },
    {
      "cell_type": "code",
      "source": [
        "n = 3\n",
        "sum(range(1, n)) / 2**n"
      ],
      "metadata": {
        "colab": {
          "base_uri": "https://localhost:8080/"
        },
        "id": "vu1lhm-lSkdA",
        "outputId": "fdd919aa-818a-4554-c927-d97fd8e05cb0"
      },
      "execution_count": 115,
      "outputs": [
        {
          "output_type": "execute_result",
          "data": {
            "text/plain": [
              "0.375"
            ]
          },
          "metadata": {},
          "execution_count": 115
        }
      ]
    },
    {
      "cell_type": "code",
      "source": [
        "for i in range(16):\n",
        "  if np.isclose(toughness(march_madness, i)[0],toughness_optimized(march_madness, i)):\n",
        "    print(i, \"Yes\")\n",
        "  else:\n",
        "    print(i, \"No\")"
      ],
      "metadata": {
        "colab": {
          "base_uri": "https://localhost:8080/"
        },
        "id": "tjSPbV3UL8Hh",
        "outputId": "13283d27-17dc-4acf-d4c6-7e2c4436880e"
      },
      "execution_count": 106,
      "outputs": [
        {
          "output_type": "stream",
          "name": "stdout",
          "text": [
            "0 Yes\n",
            "1 Yes\n",
            "2 Yes\n",
            "3 Yes\n",
            "4 Yes\n",
            "5 Yes\n",
            "6 Yes\n",
            "7 Yes\n",
            "8 Yes\n",
            "9 Yes\n",
            "10 Yes\n",
            "11 Yes\n",
            "12 Yes\n",
            "13 Yes\n",
            "14 Yes\n",
            "15 Yes\n"
          ]
        }
      ]
    },
    {
      "cell_type": "code",
      "source": [
        "toughness(matchups, 3)[0] == toughness_optimized(matchups, 3)"
      ],
      "metadata": {
        "colab": {
          "base_uri": "https://localhost:8080/"
        },
        "id": "ZDUjUdHVhTz1",
        "outputId": "7c8a5861-242b-4ca2-e1f5-688b96475568"
      },
      "execution_count": 34,
      "outputs": [
        {
          "output_type": "execute_result",
          "data": {
            "text/plain": [
              "True"
            ]
          },
          "metadata": {},
          "execution_count": 34
        }
      ]
    },
    {
      "cell_type": "code",
      "source": [
        "%%timeit\n",
        "toughness(matchups, 0)"
      ],
      "metadata": {
        "colab": {
          "base_uri": "https://localhost:8080/"
        },
        "id": "s7tB2zYUjHbr",
        "outputId": "07cd095f-bde3-431f-a6ee-5c2de27d55c8"
      },
      "execution_count": 91,
      "outputs": [
        {
          "output_type": "stream",
          "name": "stdout",
          "text": [
            "400 µs ± 14.5 µs per loop (mean ± std. dev. of 7 runs, 1000 loops each)\n"
          ]
        }
      ]
    },
    {
      "cell_type": "code",
      "source": [
        "%%timeit\n",
        "toughness_optimized(matchups, 0)"
      ],
      "metadata": {
        "id": "CuYMaHKNjLrJ",
        "outputId": "0abec5b8-dc78-423e-8a95-fcf954a94c2b",
        "colab": {
          "base_uri": "https://localhost:8080/"
        }
      },
      "execution_count": 92,
      "outputs": [
        {
          "output_type": "stream",
          "name": "stdout",
          "text": [
            "19.1 µs ± 1.15 µs per loop (mean ± std. dev. of 7 runs, 10000 loops each)\n"
          ]
        }
      ]
    },
    {
      "cell_type": "code",
      "source": [
        "toughness(march_madness, 0)"
      ],
      "metadata": {
        "colab": {
          "base_uri": "https://localhost:8080/"
        },
        "id": "U9dmjWtMW174",
        "outputId": "691c0754-b549-438b-bd16-12026cc0da83"
      },
      "execution_count": 93,
      "outputs": [
        {
          "output_type": "execute_result",
          "data": {
            "text/plain": [
              "(5.656854249492381, array([16.,  8.,  4.,  2.]))"
            ]
          },
          "metadata": {},
          "execution_count": 93
        }
      ]
    },
    {
      "cell_type": "code",
      "source": [
        "tough_list = [toughness(march_madness, i) for i in range(16)]\n",
        "tough_list"
      ],
      "metadata": {
        "colab": {
          "base_uri": "https://localhost:8080/"
        },
        "id": "j_dHkf4JX334",
        "outputId": "07b2748b-20ce-48d7-9c17-cb3fff978a2b"
      },
      "execution_count": 94,
      "outputs": [
        {
          "output_type": "execute_result",
          "data": {
            "text/plain": [
              "[(5.656854249492381, array([16.,  8.,  4.,  2.])),\n",
              " (2.82842712474619, array([1., 8., 4., 2.])),\n",
              " (2.9129506302439405, array([9., 1., 4., 2.])),\n",
              " (2.82842712474619, array([8., 1., 4., 2.])),\n",
              " (3.1301691601465746, array([12.,  4.,  1.,  2.])),\n",
              " (2.514866859365871, array([5., 4., 1., 2.])),\n",
              " (3.3766483753851806, array([13.,  5.,  1.,  2.])),\n",
              " (2.514866859365871, array([4., 5., 1., 2.])),\n",
              " (2.8502698827717987, array([11.,  3.,  2.,  1.])),\n",
              " (2.449489742783178, array([6., 3., 2., 1.])),\n",
              " (3.600205743678508, array([14.,  6.,  2.,  1.])),\n",
              " (2.449489742783178, array([3., 6., 2., 1.])),\n",
              " (2.783157683713741, array([10.,  2.,  3.,  1.])),\n",
              " (2.54572989502183, array([7., 2., 3., 1.])),\n",
              " (4.212865930610521, array([15.,  7.,  3.,  1.])),\n",
              " (2.54572989502183, array([2., 7., 3., 1.]))]"
            ]
          },
          "metadata": {},
          "execution_count": 94
        }
      ]
    },
    {
      "cell_type": "code",
      "source": [
        "t = [x[0] for x in tough_list]"
      ],
      "metadata": {
        "id": "-1CKG7MxENOA"
      },
      "execution_count": 95,
      "outputs": []
    },
    {
      "cell_type": "code",
      "source": [
        "t2 = [toughness_optimized(march_madness, i) for i in range(16)]\n",
        "list(zip(march_madness, t2))"
      ],
      "metadata": {
        "colab": {
          "base_uri": "https://localhost:8080/"
        },
        "id": "hnwaiF81FHmQ",
        "outputId": "f14f1c1a-e75f-4a17-b41d-7cc38fff270a"
      },
      "execution_count": 102,
      "outputs": [
        {
          "output_type": "execute_result",
          "data": {
            "text/plain": [
              "[(1, 5.656854249492381),\n",
              " (16, 2.8284271247461903),\n",
              " (8, 2.9129506302439405),\n",
              " (9, 2.8284271247461903),\n",
              " (5, 3.1301691601465746),\n",
              " (12, 2.514866859365871),\n",
              " (4, 3.3766483753851806),\n",
              " (13, 2.514866859365871),\n",
              " (6, 2.8502698827717983),\n",
              " (11, 2.449489742783178),\n",
              " (3, 3.6002057436785084),\n",
              " (14, 2.449489742783178),\n",
              " (7, 2.7831576837137404),\n",
              " (10, 2.5457298950218306),\n",
              " (2, 4.212865930610521),\n",
              " (15, 2.5457298950218306)]"
            ]
          },
          "metadata": {},
          "execution_count": 102
        }
      ]
    },
    {
      "cell_type": "code",
      "source": [
        "plt.bar(march_madness, t)"
      ],
      "metadata": {
        "colab": {
          "base_uri": "https://localhost:8080/",
          "height": 447
        },
        "id": "UzexI5k_a93z",
        "outputId": "96dfea34-e137-42cf-e3db-d93f98dec582"
      },
      "execution_count": 97,
      "outputs": [
        {
          "output_type": "execute_result",
          "data": {
            "text/plain": [
              "<BarContainer object of 16 artists>"
            ]
          },
          "metadata": {},
          "execution_count": 97
        },
        {
          "output_type": "display_data",
          "data": {
            "text/plain": [
              "<Figure size 640x480 with 1 Axes>"
            ],
            "image/png": "[encoded data removed]"
          },
          "metadata": {}
        }
      ]
    },
    {
      "cell_type": "code",
      "source": [
        "print(\"The seeds with the toughest matches are {}\".format(march_madness[np.argsort(t)[:2]]))"
      ],
      "metadata": {
        "colab": {
          "base_uri": "https://localhost:8080/"
        },
        "id": "nHyMfSlMbOeK",
        "outputId": "7e7f55af-9c09-48e0-e749-9048a017bd7a"
      },
      "execution_count": 99,
      "outputs": [
        {
          "output_type": "stream",
          "name": "stdout",
          "text": [
            "The seeds with the toughest matches are [11 14]\n"
          ]
        }
      ]
    }
  ]
}